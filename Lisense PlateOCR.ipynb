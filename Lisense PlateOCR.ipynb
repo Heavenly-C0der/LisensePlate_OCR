{
 "cells": [
  {
   "cell_type": "code",
   "execution_count": null,
   "id": "7dbb37d3",
   "metadata": {},
   "outputs": [],
   "source": [
    "import cv2\n",
    "import pytesseract\n",
    "import re\n",
    "\n"
   ]
  },
  {
   "cell_type": "code",
   "execution_count": null,
   "id": "70b56f0a",
   "metadata": {},
   "outputs": [],
   "source": []
  },
  {
   "cell_type": "code",
   "execution_count": null,
   "id": "8882a949",
   "metadata": {},
   "outputs": [],
   "source": [
    "pytesseract.pytesseract.tesseract_cmd = 'C:\\\\Program Files\\\\Tesseract-OCR\\\\tesseract.exe'"
   ]
  },
  {
   "cell_type": "code",
   "execution_count": null,
   "id": "a9802301",
   "metadata": {},
   "outputs": [],
   "source": [
    "\n",
    "\n",
    "def detect_plate_number(image_path):\n",
    "    image = cv2.imread(image_path)\n",
    "    gray = cv2.cvtColor(image, cv2.COLOR_BGR2GRAY)\n",
    "    \n",
    "    # Better filtering\n",
    "    filtered = cv2.bilateralFilter(gray, 11, 17, 17)\n",
    "    edged = cv2.Canny(filtered, 30, 200)\n",
    "    \n",
    "    # Find contours\n",
    "    contours, _ = cv2.findContours(edged.copy(), cv2.RETR_TREE, cv2.CHAIN_APPROX_SIMPLE)\n",
    "    contours = sorted(contours, key=cv2.contourArea, reverse=True)[:10]\n",
    "    \n",
    "    plate_img = None\n",
    "    for contour in contours:\n",
    "        approx = cv2.approxPolyDP(contour, 0.018 * cv2.arcLength(contour, True), True)\n",
    "        if len(approx) == 4:\n",
    "            x, y, w, h = cv2.boundingRect(approx)\n",
    "            aspect_ratio = w / h\n",
    "            if 2 < aspect_ratio < 6:  # Typical plate aspect ratio range\n",
    "                plate_img = gray[y:y+h, x:x+w]\n",
    "                cv2.drawContours(image, [approx], -1, (0, 255, 0), 3)\n",
    "                break\n",
    "    \n",
    "    if plate_img is not None:\n",
    "        # Adaptive threshold + OCR\n",
    "        thresh = cv2.adaptiveThreshold(plate_img, 255, cv2.ADAPTIVE_THRESH_GAUSSIAN_C,\n",
    "                                       cv2.THRESH_BINARY, 11, 2)\n",
    "        config = r'--oem 3 --psm 7'\n",
    "        text = pytesseract.image_to_string(thresh, config=config)\n",
    "        # Clean plate number with regex\n",
    "        plate_number = re.findall(r'[A-Z0-9]{4,}', text.upper())\n",
    "        return plate_number[0] if plate_number else \"Not detected\"\n",
    "    else:\n",
    "        return \"No plate detected\""
   ]
  },
  {
   "cell_type": "code",
   "execution_count": null,
   "id": "fd3d8f4b",
   "metadata": {},
   "outputs": [],
   "source": [
    "image_path = \"car.jpg\" \n",
    "\n",
    "plate_number = detect_plate_number(image_path)\n",
    "print(\"Detected Plate Number:\", plate_number)"
   ]
  }
 ],
 "metadata": {
  "kernelspec": {
   "display_name": ".venv",
   "language": "python",
   "name": "python3"
  },
  "language_info": {
   "codemirror_mode": {
    "name": "ipython",
    "version": 3
   },
   "file_extension": ".py",
   "mimetype": "text/x-python",
   "name": "python",
   "nbconvert_exporter": "python",
   "pygments_lexer": "ipython3",
   "version": "3.12.6"
  }
 },
 "nbformat": 4,
 "nbformat_minor": 5
}
